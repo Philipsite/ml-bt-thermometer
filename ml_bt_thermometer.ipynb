{
 "cells": [
  {
   "cell_type": "markdown",
   "id": "9d8b4030",
   "metadata": {},
   "source": [
    "# Machine-learning single crystal biotite thermometry\n",
    "\n",
    "This repository contains the single-crystal biotite thermometer presented in \"Calibration, validation, and evaluation of machine learning thermobarometers in metamorphic petrology: an application to biotite and outlook for future strategy\" by Hartmeier et al. (2025).\n",
    "\n",
    "All details regarding the calibration of the model and code for reproducing the results present there can be found in [ml-biotite-thermobarometry](https://github.com/Philipsite/ml-biotite-thermobarometry). "
   ]
  },
  {
   "cell_type": "markdown",
   "id": "f5155ad0",
   "metadata": {},
   "source": [
    "Interact with the ML-thermometer using this notebook. There are two types of cells. Markdown cells, like this one, contain textual descriptions. Code cells contain executable python code, that can be run by clicking the play button, or pressing \"shift\" + \"enter\".\n",
    "\n",
    "This first cell is importing python packages required for the thermometer."
   ]
  },
  {
   "cell_type": "code",
   "execution_count": 1,
   "id": "0414f777",
   "metadata": {},
   "outputs": [],
   "source": [
    "import numpy as np\n",
    "from ml_bt_thermometer.ml_bt_thermometer import estimate_temperature"
   ]
  },
  {
   "cell_type": "markdown",
   "id": "7ebfe833",
   "metadata": {},
   "source": [
    "Insert a biotite composition in atoms per formula unit (apfu) below.\n",
    "\n",
    "Follow the format: ```[\"Si\", \"Ti\", \"Al\", \"Fetot\", \"Mn\", \"Mg\"]```"
   ]
  },
  {
   "cell_type": "code",
   "execution_count": 2,
   "id": "d7c2bb78",
   "metadata": {},
   "outputs": [],
   "source": [
    "bt_c = [2.69, 0.13, 1.75, 1.36, 0.01, 0.94]"
   ]
  },
  {
   "cell_type": "markdown",
   "id": "132e44e7",
   "metadata": {},
   "source": [
    "Run the model to estimate a temperature."
   ]
  },
  {
   "cell_type": "code",
   "execution_count": 3,
   "id": "3bc31378",
   "metadata": {},
   "outputs": [],
   "source": [
    "bt_c = np.array(bt_c)\n",
    "estimated_temperature = estimate_temperature(bt_c)"
   ]
  },
  {
   "cell_type": "markdown",
   "id": "597062fe",
   "metadata": {},
   "source": [
    "Print the results."
   ]
  },
  {
   "cell_type": "code",
   "execution_count": 4,
   "id": "4a57ada3",
   "metadata": {},
   "outputs": [
    {
     "name": "stdout",
     "output_type": "stream",
     "text": [
      "Temperature estimate [°C]\n",
      "610.3649\n"
     ]
    }
   ],
   "source": [
    "print(\"Temperature estimate [°C]\")\n",
    "print(estimated_temperature)"
   ]
  }
 ],
 "metadata": {
  "kernelspec": {
   "display_name": ".venv",
   "language": "python",
   "name": "python3"
  },
  "language_info": {
   "codemirror_mode": {
    "name": "ipython",
    "version": 3
   },
   "file_extension": ".py",
   "mimetype": "text/x-python",
   "name": "python",
   "nbconvert_exporter": "python",
   "pygments_lexer": "ipython3",
   "version": "3.11.5"
  }
 },
 "nbformat": 4,
 "nbformat_minor": 5
}
