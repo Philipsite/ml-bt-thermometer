{
 "cells": [
  {
   "cell_type": "code",
   "execution_count": null,
   "id": "0414f777",
   "metadata": {},
   "outputs": [],
   "source": [
    "import numpy as np\n",
    "from ml_bt_thermometer.ml_bt_thermometer import estimate_temperature"
   ]
  },
  {
   "cell_type": "markdown",
   "id": "7ebfe833",
   "metadata": {},
   "source": [
    "Insert a biotite composition in atoms per formula unit (apfu) below.\n",
    "\n",
    "Follow the format: ```[\"Si\", \"Ti\", \"Al\", \"Fetot\", \"Mn\", \"Mg\"]```"
   ]
  },
  {
   "cell_type": "code",
   "execution_count": 4,
   "id": "d7c2bb78",
   "metadata": {},
   "outputs": [],
   "source": [
    "bt_c = np.array([2.69, 0.13, 1.75, 1.36, 0.01, 0.94])"
   ]
  },
  {
   "cell_type": "code",
   "execution_count": null,
   "id": "3bc31378",
   "metadata": {},
   "outputs": [],
   "source": [
    "estimated_temperature = estimate_temperature(bt_c)\n",
    "print(estimated_temperature)"
   ]
  }
 ],
 "metadata": {
  "kernelspec": {
   "display_name": ".venv",
   "language": "python",
   "name": "python3"
  },
  "language_info": {
   "codemirror_mode": {
    "name": "ipython",
    "version": 3
   },
   "file_extension": ".py",
   "mimetype": "text/x-python",
   "name": "python",
   "nbconvert_exporter": "python",
   "pygments_lexer": "ipython3",
   "version": "3.11.5"
  }
 },
 "nbformat": 4,
 "nbformat_minor": 5
}
